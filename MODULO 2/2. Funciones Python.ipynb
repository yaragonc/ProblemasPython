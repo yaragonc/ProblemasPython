{
 "cells": [
  {
   "cell_type": "markdown",
   "metadata": {},
   "source": [
    "# Funciones Python"
   ]
  },
  {
   "cell_type": "markdown",
   "metadata": {},
   "source": [
    "Las funciones son fragmentos de código que se pueden ejecutar múltiples veces, además pueden recibir y devolver información para comunicarse con el proceso principal.\n",
    "\n"
   ]
  },
  {
   "cell_type": "code",
   "execution_count": 1,
   "metadata": {},
   "outputs": [],
   "source": [
    "def mi_funcion():\n",
    "    # aquí mi codigo\n",
    "    pass   # uso del pass es opcional"
   ]
  },
  {
   "cell_type": "markdown",
   "metadata": {},
   "source": [
    "Una función, no es ejecutada hasta tanto no sea invocada. Para invocar una función, simplemente se la llama por su nombre:"
   ]
  },
  {
   "cell_type": "code",
   "execution_count": 1,
   "metadata": {},
   "outputs": [],
   "source": [
    "# defino mi función\n",
    "def hola():\n",
    "    print(\"Hola Mundo\")"
   ]
  },
  {
   "cell_type": "code",
   "execution_count": 2,
   "metadata": {},
   "outputs": [
    {
     "name": "stdout",
     "output_type": "stream",
     "text": [
      "Hola Mundo\n"
     ]
    }
   ],
   "source": [
    "# llamo mi función\n",
    "hola()"
   ]
  },
  {
   "cell_type": "markdown",
   "metadata": {},
   "source": [
    "Cuando una función, haga un retorno de datos, éstos, pueden ser asignados a una variable:"
   ]
  },
  {
   "cell_type": "code",
   "execution_count": 3,
   "metadata": {},
   "outputs": [
    {
     "name": "stdout",
     "output_type": "stream",
     "text": [
      "Hola Mundo\n"
     ]
    }
   ],
   "source": [
    "#  Función retorna la palabra \"Hola Mundo\"\n",
    "def funcion():\n",
    "    return \"Hola Mundo\"\n",
    "\n",
    "# Almaceno el valor devuelto en una variable\n",
    "frase = funcion()\n",
    "print(frase)"
   ]
  },
  {
   "cell_type": "markdown",
   "metadata": {},
   "source": [
    "## Función con Parámetros\n",
    "-----------------------------------"
   ]
  },
  {
   "cell_type": "markdown",
   "metadata": {},
   "source": [
    "<b>Un parámetro es un valor que la función espera recibir cuando sea llamada (invocada), a fin de ejecutar acciones en base al mismo.</b> Una función puede esperar uno o más parámetros (que irán separados por una coma) o ninguno.\n"
   ]
  },
  {
   "cell_type": "code",
   "execution_count": 4,
   "metadata": {},
   "outputs": [],
   "source": [
    "def mi_funcion(nombre, apellido):\n",
    "    # algoritmo \n",
    "    pass"
   ]
  },
  {
   "cell_type": "markdown",
   "metadata": {},
   "source": [
    "Los parámetros que una función espera, serán utilizados por ésta, dentro de su algoritmo, a modo de variables de <b>ámbito local</b>. Es decir, que los parámetros serán variables locales, a las cuáles solo la función podrá acceder:\n"
   ]
  },
  {
   "cell_type": "code",
   "execution_count": 6,
   "metadata": {},
   "outputs": [],
   "source": [
    "# Ejemplo función con parámetros\n",
    "def mi_funcion(nombre, apellido):\n",
    "    nombre_completo = nombre+ ' ' + apellido\n",
    "    print(nombre_completo)"
   ]
  },
  {
   "cell_type": "code",
   "execution_count": 7,
   "metadata": {},
   "outputs": [
    {
     "name": "stdout",
     "output_type": "stream",
     "text": [
      "gonzalo delgado\n"
     ]
    }
   ],
   "source": [
    "mi_funcion('gonzalo','delgado')"
   ]
  },
  {
   "cell_type": "code",
   "execution_count": 8,
   "metadata": {},
   "outputs": [
    {
     "ename": "TypeError",
     "evalue": "mi_funcion() missing 2 required positional arguments: 'nombre' and 'apellido'",
     "output_type": "error",
     "traceback": [
      "\u001b[1;31m---------------------------------------------------------------------------\u001b[0m",
      "\u001b[1;31mTypeError\u001b[0m                                 Traceback (most recent call last)",
      "\u001b[1;32m<ipython-input-8-480632bb35da>\u001b[0m in \u001b[0;36m<module>\u001b[1;34m\u001b[0m\n\u001b[1;32m----> 1\u001b[1;33m \u001b[0mmi_funcion\u001b[0m\u001b[1;33m(\u001b[0m\u001b[1;33m)\u001b[0m\u001b[1;33m\u001b[0m\u001b[1;33m\u001b[0m\u001b[0m\n\u001b[0m",
      "\u001b[1;31mTypeError\u001b[0m: mi_funcion() missing 2 required positional arguments: 'nombre' and 'apellido'"
     ]
    }
   ],
   "source": [
    "mi_funcion()"
   ]
  },
  {
   "cell_type": "code",
   "execution_count": 9,
   "metadata": {},
   "outputs": [],
   "source": [
    "# Ejemplo 2\n",
    "def suma(a, b):  # valores que se reciben\n",
    "    return a + b"
   ]
  },
  {
   "cell_type": "code",
   "execution_count": 10,
   "metadata": {},
   "outputs": [
    {
     "name": "stdout",
     "output_type": "stream",
     "text": [
      "11\n"
     ]
    }
   ],
   "source": [
    "a = 5\n",
    "b = 6\n",
    "resultado = suma(a, b)  # valores que se envían\n",
    "print(resultado)"
   ]
  },
  {
   "cell_type": "markdown",
   "metadata": {},
   "source": [
    "Cuando pasamos parámetros a nuestra función, esta entiende cada valor por la posición en que se ha descrito en la función"
   ]
  },
  {
   "cell_type": "code",
   "execution_count": 11,
   "metadata": {},
   "outputs": [
    {
     "data": {
      "text/plain": [
       "20"
      ]
     },
     "execution_count": 11,
     "metadata": {},
     "output_type": "execute_result"
    }
   ],
   "source": [
    "# Ejemplo3\n",
    "def resta(a, b):\n",
    "    return a - b\n",
    "\n",
    "# argumento 30 => posición 0 => parámetro a\n",
    "# argumento 10 => posición 1 => parámetro b\n",
    "resta(30, 10)"
   ]
  },
  {
   "cell_type": "markdown",
   "metadata": {},
   "source": [
    "Una forma de cambiar el orden en como entiende la función en que orden queremos pasar los parámetros es la siguiente:"
   ]
  },
  {
   "cell_type": "code",
   "execution_count": 12,
   "metadata": {},
   "outputs": [
    {
     "data": {
      "text/plain": [
       "-90"
      ]
     },
     "execution_count": 12,
     "metadata": {},
     "output_type": "execute_result"
    }
   ],
   "source": [
    "resta(b=100, a=10)"
   ]
  },
  {
   "cell_type": "markdown",
   "metadata": {},
   "source": [
    "## Valores por Defecto"
   ]
  },
  {
   "cell_type": "markdown",
   "metadata": {},
   "source": [
    "Es posible colocar valores por defecto en nuestras funciones, asi si no se pasa un parámetro, nuestra función seguira funcionando"
   ]
  },
  {
   "cell_type": "code",
   "execution_count": 13,
   "metadata": {},
   "outputs": [
    {
     "name": "stdout",
     "output_type": "stream",
     "text": [
      "92\n"
     ]
    }
   ],
   "source": [
    "def bar(x=2):\n",
    "    return x + 90\n",
    "\n",
    "# my_var = 3\n",
    "print(bar())"
   ]
  },
  {
   "cell_type": "code",
   "execution_count": 14,
   "metadata": {},
   "outputs": [
    {
     "name": "stdout",
     "output_type": "stream",
     "text": [
      "96\n"
     ]
    }
   ],
   "source": [
    "# pasando un valor a mi funcion\n",
    "print(bar(6))"
   ]
  },
  {
   "cell_type": "markdown",
   "metadata": {},
   "source": [
    "## Desempaquetado de datos"
   ]
  },
  {
   "cell_type": "markdown",
   "metadata": {},
   "source": [
    "Muchas veces se utilizan listas , tuplas o diccionarios para contener diversa cantidad de datos. En ese sentido, es posible desempaquetar los valores contenidos en este tipo de datos para que puedan ser leidos por la funcion"
   ]
  },
  {
   "cell_type": "markdown",
   "metadata": {},
   "source": [
    "### Args"
   ]
  },
  {
   "cell_type": "markdown",
   "metadata": {},
   "source": [
    "Cuando no se sabe la cantidad de valores"
   ]
  },
  {
   "cell_type": "code",
   "execution_count": 15,
   "metadata": {},
   "outputs": [
    {
     "name": "stdout",
     "output_type": "stream",
     "text": [
      "5\n",
      "Hola\n",
      "[1, 2, 3, 4, 5]\n",
      "{'dia': 'sabado'}\n"
     ]
    }
   ],
   "source": [
    "def indeterminados_posicion(*args):\n",
    "    for arg in args:\n",
    "        print(arg)\n",
    "\n",
    "indeterminados_posicion(5,\"Hola\",[1,2,3,4,5],{'dia':'sabado'})"
   ]
  },
  {
   "cell_type": "markdown",
   "metadata": {},
   "source": [
    "Cuando se tiene los valores en lista"
   ]
  },
  {
   "cell_type": "code",
   "execution_count": 16,
   "metadata": {},
   "outputs": [
    {
     "name": "stdout",
     "output_type": "stream",
     "text": [
      "34\n"
     ]
    }
   ],
   "source": [
    "# valores a ser sumados se encuentran en una lista\n",
    "def sumar(a,b):\n",
    "    return a+b\n",
    "\n",
    "# lista con valores a ser sumados\n",
    "numeros_sumar=[23,11]\n",
    "\n",
    "print(sumar(*numeros_sumar))\n"
   ]
  },
  {
   "cell_type": "code",
   "execution_count": null,
   "metadata": {},
   "outputs": [],
   "source": []
  },
  {
   "cell_type": "markdown",
   "metadata": {},
   "source": [
    "### kwargs"
   ]
  },
  {
   "cell_type": "markdown",
   "metadata": {},
   "source": [
    "Cuando no se sabe la cantidad de valores"
   ]
  },
  {
   "cell_type": "code",
   "execution_count": 31,
   "metadata": {},
   "outputs": [
    {
     "name": "stdout",
     "output_type": "stream",
     "text": [
      "n => 5\n",
      "c => Hola\n",
      "l => [1, 2, 3, 4, 5]\n"
     ]
    }
   ],
   "source": [
    "def indeterminados_nombre(**kwargs):\n",
    "    for kwarg in kwargs:\n",
    "        print(kwarg, \"=>\", kwargs[kwarg])\n",
    "\n",
    "indeterminados_nombre(n=5, c=\"Hola\", l=[1,2,3,4,5])   "
   ]
  },
  {
   "cell_type": "markdown",
   "metadata": {},
   "source": [
    "Valores contenidos en diccionario"
   ]
  },
  {
   "cell_type": "code",
   "execution_count": 18,
   "metadata": {},
   "outputs": [
    {
     "name": "stdout",
     "output_type": "stream",
     "text": [
      "1350.0\n"
     ]
    }
   ],
   "source": [
    "def calcular(importe, descuento):\n",
    "    return importe - (importe * descuento / 100) \n",
    "\n",
    "datos = {\n",
    "    \"descuento\": 10, \n",
    "    \"importe\": 1500\n",
    "        }\n",
    "\n",
    "print(calcular(**datos))"
   ]
  },
  {
   "cell_type": "markdown",
   "metadata": {},
   "source": [
    "Combinando ambos conceptos"
   ]
  },
  {
   "cell_type": "code",
   "execution_count": 40,
   "metadata": {},
   "outputs": [
    {
     "name": "stdout",
     "output_type": "stream",
     "text": [
      "sumatorio =>  440.56\n",
      "nombre => Hector\n",
      "edad => 27\n",
      "sueldo => 1200\n"
     ]
    }
   ],
   "source": [
    "def super_funcion(*args,**kwargs):\n",
    "    total = 0\n",
    "    for arg in args:\n",
    "        total += arg\n",
    "    print(\"sumatorio => \", total)\n",
    "    \n",
    "    for kwarg in kwargs:\n",
    "        print(kwarg, \"=>\", kwargs[kwarg])\n",
    "\n",
    "super_funcion(10, 50, -1, 1.56, 10, 20, 300,*[20,30], nombre=\"Hector\", edad=27,**{'sueldo':1200})"
   ]
  },
  {
   "cell_type": "code",
   "execution_count": null,
   "metadata": {},
   "outputs": [],
   "source": []
  },
  {
   "cell_type": "code",
   "execution_count": 19,
   "metadata": {},
   "outputs": [
    {
     "data": {
      "text/plain": [
       "'Hola Gonzalo, tu edad es 26'"
      ]
     },
     "execution_count": 19,
     "metadata": {},
     "output_type": "execute_result"
    }
   ],
   "source": [
    "datos_persona ={\n",
    "    'nombre':'Gonzalo',\n",
    "    'edad': 26\n",
    "}\n",
    "\n",
    "\"Hola {nombre}, tu edad es {edad}\".format(**datos_persona)"
   ]
  },
  {
   "cell_type": "code",
   "execution_count": 20,
   "metadata": {},
   "outputs": [
    {
     "data": {
      "text/plain": [
       "'Hola Gonzalo, tu edad es 26'"
      ]
     },
     "execution_count": 20,
     "metadata": {},
     "output_type": "execute_result"
    }
   ],
   "source": [
    "datos_lista =['Gonzalo', 26]\n",
    "\n",
    "\"Hola {0}, tu edad es {1}\".format(*datos_lista)\n",
    "\n",
    "\n"
   ]
  },
  {
   "cell_type": "markdown",
   "metadata": {},
   "source": [
    "## Paso por valor y referencia\n",
    "-----------------------------------"
   ]
  },
  {
   "cell_type": "markdown",
   "metadata": {},
   "source": [
    "Dependiendo del tipo de dato que enviemos a la función, podemos diferenciar dos comportamientos:\n",
    "\n",
    "- <b>Paso por valor:</b> Se crea una copia local de la variable dentro de la función.\n",
    "- <b>Paso por referencia:</b> Se maneja directamente la variable, los cambios realizados dentro de la función le afectarán también fuera.\n",
    "\n",
    "Tradicionalmente:\n",
    "- <b>Los tipos simples se pasan por valor (Inmutables)</b>: Enteros, flotantes, cadenas, lógicos...\n",
    "- <b>Los tipos compuestos se pasan por referencia (Mutables)</b>: Listas, diccionarios, conjuntos..."
   ]
  },
  {
   "cell_type": "markdown",
   "metadata": {},
   "source": [
    "<center><img src='./img/tipo_dato.PNG' width=\"500\" height=\"500\"></center>"
   ]
  },
  {
   "cell_type": "markdown",
   "metadata": {},
   "source": [
    "## Paso por valor"
   ]
  },
  {
   "cell_type": "code",
   "execution_count": 30,
   "metadata": {},
   "outputs": [
    {
     "name": "stdout",
     "output_type": "stream",
     "text": [
      "valor de x dentro de la funcion \"bar\" es  93\n",
      "valor de x a nivel global es  3\n"
     ]
    }
   ],
   "source": [
    "# Valor pasado por valor. Este genera una copia al valor pasado para no alterar el valor original del dato\n",
    "def bar(x):\n",
    "    x = x + 90 \n",
    "    print('valor de x dentro de la funcion \"bar\" es ', x)\n",
    "\n",
    "x = 3 \n",
    "bar(x)\n",
    "print('valor de x a nivel global es ', x)"
   ]
  },
  {
   "cell_type": "code",
   "execution_count": null,
   "metadata": {},
   "outputs": [],
   "source": []
  },
  {
   "cell_type": "markdown",
   "metadata": {},
   "source": [
    "<center><img src='./img/valor.PNG' width=\"300\" height=\"500\"></center>"
   ]
  },
  {
   "cell_type": "code",
   "execution_count": 28,
   "metadata": {},
   "outputs": [
    {
     "name": "stdout",
     "output_type": "stream",
     "text": [
      "93\n"
     ]
    }
   ],
   "source": [
    "# Para cambiar el valor de estos valores, podríamos reasignar el valor de variable en algunos casos\n",
    "def bar(x):\n",
    "    return x + 90\n",
    "\n",
    "my_var = 3 \n",
    "my_var = bar(my_var)\n",
    "print(my_var)"
   ]
  },
  {
   "cell_type": "code",
   "execution_count": 29,
   "metadata": {},
   "outputs": [
    {
     "data": {
      "text/plain": [
       "93"
      ]
     },
     "execution_count": 29,
     "metadata": {},
     "output_type": "execute_result"
    }
   ],
   "source": [
    "my_var"
   ]
  },
  {
   "cell_type": "markdown",
   "metadata": {},
   "source": [
    "## Paso por referencia"
   ]
  },
  {
   "cell_type": "markdown",
   "metadata": {},
   "source": [
    "Las listas u otras colecciones, al ser tipos compuestos se pasan por referencia, y si las modificamos dentro de la función estaremos modificándolas también fuera:"
   ]
  },
  {
   "cell_type": "code",
   "execution_count": 25,
   "metadata": {},
   "outputs": [],
   "source": [
    "# Valor puede\n",
    "def foo(x):\n",
    "    x[0] = x[0] * 99\n",
    "\n",
    "# lista original\n",
    "my_list = [1, 2, 3] \n",
    "foo(my_list)"
   ]
  },
  {
   "cell_type": "code",
   "execution_count": 26,
   "metadata": {},
   "outputs": [
    {
     "data": {
      "text/plain": [
       "[99, 2, 3]"
      ]
     },
     "execution_count": 26,
     "metadata": {},
     "output_type": "execute_result"
    }
   ],
   "source": [
    "my_list"
   ]
  },
  {
   "cell_type": "markdown",
   "metadata": {},
   "source": [
    "<center><img src='./img/referencia.PNG' width=\"300\" height=\"500\"></center>"
   ]
  },
  {
   "cell_type": "code",
   "execution_count": 31,
   "metadata": {},
   "outputs": [],
   "source": [
    "# asi se genere una copia simple, esto no soluciona el problema\n",
    "my_list2 = my_list\n",
    "foo(my_list2)"
   ]
  },
  {
   "cell_type": "code",
   "execution_count": 32,
   "metadata": {},
   "outputs": [
    {
     "data": {
      "text/plain": [
       "[9801, 2, 3]"
      ]
     },
     "execution_count": 32,
     "metadata": {},
     "output_type": "execute_result"
    }
   ],
   "source": [
    "my_list2"
   ]
  },
  {
   "cell_type": "code",
   "execution_count": 33,
   "metadata": {},
   "outputs": [
    {
     "data": {
      "text/plain": [
       "[9801, 2, 3]"
      ]
     },
     "execution_count": 33,
     "metadata": {},
     "output_type": "execute_result"
    }
   ],
   "source": [
    "my_list"
   ]
  },
  {
   "cell_type": "code",
   "execution_count": null,
   "metadata": {},
   "outputs": [],
   "source": []
  },
  {
   "cell_type": "code",
   "execution_count": 34,
   "metadata": {},
   "outputs": [
    {
     "data": {
      "text/plain": [
       "[1, 2, 3]"
      ]
     },
     "execution_count": 34,
     "metadata": {},
     "output_type": "execute_result"
    }
   ],
   "source": [
    "# se puede solucionar realizando una copia al objeto\n",
    "my_list = [1, 2, 3]\n",
    "foo(my_list.copy())\n",
    "my_list"
   ]
  },
  {
   "cell_type": "code",
   "execution_count": null,
   "metadata": {},
   "outputs": [],
   "source": []
  },
  {
   "cell_type": "markdown",
   "metadata": {},
   "source": [
    "## Ámbito de variables en funciones\n",
    "-----------------------------------"
   ]
  },
  {
   "cell_type": "code",
   "execution_count": null,
   "metadata": {},
   "outputs": [],
   "source": []
  },
  {
   "cell_type": "markdown",
   "metadata": {},
   "source": [
    "<center><img src='./img/ambito.PNG'></center>"
   ]
  },
  {
   "cell_type": "markdown",
   "metadata": {},
   "source": [
    "#### Ejemplo"
   ]
  },
  {
   "cell_type": "code",
   "execution_count": 35,
   "metadata": {},
   "outputs": [
    {
     "name": "stdout",
     "output_type": "stream",
     "text": [
      "42\n",
      "7\n"
     ]
    }
   ],
   "source": [
    "# valor de variable global 'x' se mantiene\n",
    "x = 7 \n",
    "def foo():   \n",
    "    x = 42\n",
    "    print(x)\n",
    "\n",
    "#  llamo a la funcion\n",
    "foo()\n",
    "print(x)"
   ]
  },
  {
   "cell_type": "code",
   "execution_count": 36,
   "metadata": {},
   "outputs": [
    {
     "name": "stdout",
     "output_type": "stream",
     "text": [
      "valor de x final 42\n",
      "42\n"
     ]
    }
   ],
   "source": [
    "# Global indica que se va a trabar con variable global por lo que cuando redefinimos a la variable, \n",
    "# se cambia el valor global de esta\n",
    " \n",
    "def foo():\n",
    "    global x\n",
    "    x = 42 # reasignacion total x\n",
    "    print('valor de x final', x)\n",
    "    return x\n",
    "    \n",
    "# llamo a la funcion\n",
    "\n",
    "x = 7\n",
    "foo()\n",
    "print(x)"
   ]
  },
  {
   "cell_type": "code",
   "execution_count": null,
   "metadata": {},
   "outputs": [],
   "source": []
  },
  {
   "cell_type": "markdown",
   "metadata": {},
   "source": [
    "## Función Recursivas\n",
    "-----------------------------------"
   ]
  },
  {
   "cell_type": "markdown",
   "metadata": {},
   "source": [
    "Se trata de funciones que se llaman a sí mismas durante su propia ejecución. Funcionan de forma similar a las iteraciones, pero debemos encargarnos de planificar el momento en que dejan de llamarse a sí mismas o tendremos una función rescursiva infinita.\n",
    "\n",
    "Suele utilizarse para dividir una tarea en subtareas más simples de forma que sea más fácil abordar el problema y solucionarlo."
   ]
  },
  {
   "cell_type": "code",
   "execution_count": 64,
   "metadata": {},
   "outputs": [],
   "source": [
    "def jugar(intento=1):\n",
    "    respuesta = input(\"¿De qué color es una naranja? \")\n",
    "    if respuesta.lower() != \"naranja\":\n",
    "        if intento < 3:\n",
    "            print(\"\\nFallaste! Inténtalo de nuevo\")             \n",
    "            intento += 1 \n",
    "            jugar(intento)  # Llamada recursiva         \n",
    "        else:\n",
    "            print(\"\\nPerdiste!\")     \n",
    "    else:\n",
    "        print(\"\\nGanaste!\")"
   ]
  },
  {
   "cell_type": "code",
   "execution_count": 65,
   "metadata": {},
   "outputs": [
    {
     "name": "stdin",
     "output_type": "stream",
     "text": [
      "¿De qué color es una naranja?  blue\n"
     ]
    },
    {
     "name": "stdout",
     "output_type": "stream",
     "text": [
      "\n",
      "Fallaste! Inténtalo de nuevo\n"
     ]
    },
    {
     "name": "stdin",
     "output_type": "stream",
     "text": [
      "¿De qué color es una naranja?  blue\n"
     ]
    },
    {
     "name": "stdout",
     "output_type": "stream",
     "text": [
      "\n",
      "Fallaste! Inténtalo de nuevo\n"
     ]
    },
    {
     "name": "stdin",
     "output_type": "stream",
     "text": [
      "¿De qué color es una naranja?  blue\n"
     ]
    },
    {
     "name": "stdout",
     "output_type": "stream",
     "text": [
      "\n",
      "Perdiste!\n"
     ]
    }
   ],
   "source": [
    "jugar()"
   ]
  },
  {
   "cell_type": "markdown",
   "metadata": {},
   "source": [
    "# Ejercicios"
   ]
  },
  {
   "cell_type": "markdown",
   "metadata": {},
   "source": [
    "### 1.\n",
    "Realiza una función que indique si un número pasado por parámetro es par o impar."
   ]
  },
  {
   "cell_type": "code",
   "execution_count": 21,
   "metadata": {},
   "outputs": [],
   "source": [
    "def validar_par(num):\n",
    "    if num % 2 == 0:\n",
    "        return True\n",
    "    return False"
   ]
  },
  {
   "cell_type": "code",
   "execution_count": 22,
   "metadata": {},
   "outputs": [
    {
     "name": "stdin",
     "output_type": "stream",
     "text": [
      "Ingrese un número:  25\n"
     ]
    },
    {
     "data": {
      "text/plain": [
       "25"
      ]
     },
     "execution_count": 22,
     "metadata": {},
     "output_type": "execute_result"
    }
   ],
   "source": [
    "\n",
    "\n",
    "numero = int(input(\"Ingrese un número: \"))\n",
    "numero\n"
   ]
  },
  {
   "cell_type": "code",
   "execution_count": 24,
   "metadata": {},
   "outputs": [
    {
     "name": "stdout",
     "output_type": "stream",
     "text": [
      "El número ingresado 25 es impar\n"
     ]
    }
   ],
   "source": [
    "if validar_par(numero):\n",
    "    print('El número ingresado {} es par'.format(numero))\n",
    "else:\n",
    "    print('El número ingresado {} es impar'.format(numero))"
   ]
  },
  {
   "cell_type": "markdown",
   "metadata": {},
   "source": [
    "### 2.\n",
    "Realiza una función llamada area_rectangulo(base, altura) que devuelva el área del rectangulo a partir de una base y una altura. Calcula el área de un rectángulo de 15 de base y 10 de altura:\n",
    "\n"
   ]
  },
  {
   "cell_type": "code",
   "execution_count": 6,
   "metadata": {},
   "outputs": [],
   "source": [
    "# funciones\n",
    "\n",
    "def area_rectangulo(b, h):\n",
    "    return b * h / 2\n"
   ]
  },
  {
   "cell_type": "code",
   "execution_count": 4,
   "metadata": {},
   "outputs": [
    {
     "name": "stdin",
     "output_type": "stream",
     "text": [
      "Ingrese la base del triangulo:  3\n",
      "ingrese la altura del triangulo:  4\n"
     ]
    }
   ],
   "source": [
    "# mi programa princial\n",
    "base = int(input('Ingrese la base del triangulo: '))\n",
    "altura = int(input('ingrese la altura del triangulo: '))\n"
   ]
  },
  {
   "cell_type": "code",
   "execution_count": 10,
   "metadata": {},
   "outputs": [],
   "source": [
    "\n",
    "area1 = area_rectangulo(base, altura)\n",
    "area2 = area_rectangulo(2, 2)\n"
   ]
  },
  {
   "cell_type": "code",
   "execution_count": 13,
   "metadata": {},
   "outputs": [
    {
     "name": "stdout",
     "output_type": "stream",
     "text": [
      "area 1:  6.0\n",
      "area 2:  2.0\n",
      "area 3 14.0\n"
     ]
    }
   ],
   "source": [
    "print('area 1: ', area1)\n",
    "print('area 2: ', area2)\n",
    "print('area 3', area_rectangulo(7, 4))\n",
    "\n",
    "\n",
    "\n"
   ]
  },
  {
   "cell_type": "markdown",
   "metadata": {},
   "source": [
    "### 3.\n",
    "Crear una funcion para sumar elementos de una lista"
   ]
  },
  {
   "cell_type": "code",
   "execution_count": 91,
   "metadata": {},
   "outputs": [],
   "source": [
    "list_n = [20, 10, 30, 40, 50 ,60]"
   ]
  },
  {
   "cell_type": "code",
   "execution_count": null,
   "metadata": {},
   "outputs": [],
   "source": []
  },
  {
   "cell_type": "code",
   "execution_count": null,
   "metadata": {},
   "outputs": [],
   "source": []
  },
  {
   "cell_type": "code",
   "execution_count": null,
   "metadata": {},
   "outputs": [],
   "source": []
  },
  {
   "cell_type": "markdown",
   "metadata": {},
   "source": [
    "### 3.\n",
    "Realiza una función llamada relacion(a, b) que a partir de dos números cumpla lo siguiente:\n",
    "\n",
    "- Si el primer número es mayor que el segundo, debe devolver 1.\n",
    "- Si el primer número es menor que el segundo, debe devolver -1.\n",
    "- Si ambos números son iguales, debe devolver un 0.\n",
    "\n",
    "Comprueba la relación entre los números: '5 y 10', '10 y 5' y '5 y 5'."
   ]
  },
  {
   "cell_type": "code",
   "execution_count": null,
   "metadata": {},
   "outputs": [],
   "source": []
  },
  {
   "cell_type": "markdown",
   "metadata": {},
   "source": [
    "### 4.\n",
    "El factorial de un número corresponde al producto de todos los números desde 1 hasta el propio número. Es el ejemplo con retorno más utilizado para mostrar la utilidad de este tipo de funciones:\n",
    "\n",
    "- 3! = 1 x 2 x 3 = 6\n",
    "- 5! = 1 x 2 x 3 x 4 x 5 = 120"
   ]
  },
  {
   "cell_type": "code",
   "execution_count": 43,
   "metadata": {},
   "outputs": [],
   "source": [
    "def factorial(num):\n",
    "    fac = 1\n",
    "    for i in range(1,num+1):\n",
    "        fac = fac * i\n",
    "    return fac\n",
    "    "
   ]
  },
  {
   "cell_type": "code",
   "execution_count": 45,
   "metadata": {},
   "outputs": [],
   "source": [
    "n = 6"
   ]
  },
  {
   "cell_type": "code",
   "execution_count": 46,
   "metadata": {},
   "outputs": [
    {
     "data": {
      "text/plain": [
       "720"
      ]
     },
     "execution_count": 46,
     "metadata": {},
     "output_type": "execute_result"
    }
   ],
   "source": [
    "factorial(n)"
   ]
  },
  {
   "cell_type": "code",
   "execution_count": 66,
   "metadata": {},
   "outputs": [
    {
     "name": "stdin",
     "output_type": "stream",
     "text": [
      "Ingrese un numero :  5\n"
     ]
    },
    {
     "name": "stdout",
     "output_type": "stream",
     "text": [
      "120\n"
     ]
    }
   ],
   "source": [
    "def factorial(n):\n",
    "    if n == 0:\n",
    "        return 1\n",
    "    else:\n",
    "        return n * factorial(n-1)\n",
    "n=int(input(\"Ingrese un numero : \"))\n",
    "print(factorial(n))"
   ]
  },
  {
   "cell_type": "markdown",
   "metadata": {},
   "source": [
    "### 5.\n",
    "Realizar una función que realice la sucesión de fibonacci:\n",
    "\n",
    "- 0, 1, 1, 2, 3, 5, 8, 13, 21, 34"
   ]
  },
  {
   "cell_type": "code",
   "execution_count": 57,
   "metadata": {},
   "outputs": [],
   "source": [
    "def serie_fibo(n):\n",
    "    \n",
    "    fibonacci = [0,1]\n",
    "    for i in range(2,n+1):\n",
    "        fibonacci.append(fibonacci[-2] + fibonacci[-1])\n",
    "    return fibonacci"
   ]
  },
  {
   "cell_type": "code",
   "execution_count": 54,
   "metadata": {},
   "outputs": [],
   "source": [
    "n = 9"
   ]
  },
  {
   "cell_type": "code",
   "execution_count": 63,
   "metadata": {},
   "outputs": [
    {
     "data": {
      "text/plain": [
       "[0, 1, 1, 2, 3, 5, 8, 13, 21, 34]"
      ]
     },
     "execution_count": 63,
     "metadata": {},
     "output_type": "execute_result"
    }
   ],
   "source": [
    "serie_fibo(n)"
   ]
  }
 ],
 "metadata": {
  "kernelspec": {
   "display_name": "Python 3",
   "language": "python",
   "name": "python3"
  },
  "language_info": {
   "codemirror_mode": {
    "name": "ipython",
    "version": 3
   },
   "file_extension": ".py",
   "mimetype": "text/x-python",
   "name": "python",
   "nbconvert_exporter": "python",
   "pygments_lexer": "ipython3",
   "version": "3.8.5"
  }
 },
 "nbformat": 4,
 "nbformat_minor": 4
}
